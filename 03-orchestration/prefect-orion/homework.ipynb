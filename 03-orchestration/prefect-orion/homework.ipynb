{
 "cells": [
  {
   "cell_type": "markdown",
   "metadata": {},
   "source": [
    "## 3.6 Homework\n",
    "\n",
    "The goal of this homework is to familiarize users with workflow orchestration. We start from the solution of homework 1. The notebook can be found below:\n",
    "\n",
    "https://github.com/DataTalksClub/mlops-zoomcamp/blob/main/01-intro/homework.ipynb\n",
    "\n",
    "This has already been converted to a script called `homework.py` in the `03-orchestration` folder of this repo. \n",
    "\n",
    "You will use the FHV dataset like in homework 1.\n",
    "\n",
    "\n",
    "## Motivation\n",
    "\n",
    "We already have a model training script. Maybe a data scientist in your team handed it to you and your job is schedule the running of training script using a workflow orchestration - Prefect in this case. Below are the requirements. Do not implement them yet, we will do so in this exercise. Just understand the goal.\n",
    "\n",
    "1. The training flow will be run every month.\n",
    "2. The flow will take in a parameter called `date` which will be a datetime.\n",
    "    a. `date` should default to None\n",
    "    b. If `date` is None, set `date` as the current day. Use the data from 2 months back as the training data and the data from the previous month as validation data.\n",
    "    c. If `date` is passed, get 2 months before the `date` as the training data, and the previous month as validation data.\n",
    "    d. As a concrete example, if the date passed is \"2021-03-15\", the training data should be \"fhv_tripdata_2021-01.parquet\" and the validation file will be \"fhv_trip_data_2021-02.parquet\"\n",
    "3. Save the model as \"model-{date}.pkl\" where date is in `YYYY-MM-DD`. Note that `date` here is the value of the flow `parameter`. In practice, this setup makes it very easy to get the latest model to run predictions because you just need to get the most recent one.\n",
    "4. In this example we use a DictVectorizer. That is needed to run future data through our model. Save that as \"dv-{date}.pkl\". Similar to above, if the date is `2021-03-15`, the files output should be `model-2021-03-15.bin` and `dv-2021-03-15.b`.\n",
    "\n",
    "This convention is not strict in industry, and in practice, you will come up with your own system to manage these training pipeline runs. For example, if we wanted to train on the whole history instead of just one month, we'd need to allow for added parameterization and logic in our flow. If the data came in weekly instead of monthly, we might need a different naming convention. But these requirements are already a simple approximation of something you could use in production.\n",
    "\n",
    "On the deployment side, it's very easy to just pull in the latest data and predict it using the latest model and vectorizer files. Tools the MLFlow in the last chapter can simplify that process as well. This homework will focus more on the batch training.\n",
    "\n",
    "In order, this homework assignment will be about:\n",
    "\n",
    "1. Converting the script to a Flow\n",
    "2. Changing the parameters to take in a `date`. Making this parameter dynamic.\n",
    "3. Scheduling a batch training job that outputs the latest model somewhere\n",
    "\n",
    "## Setup\n",
    "\n",
    "You can use either local Prefect Orion or a VM hosted Prefect Orion instance for this. It shouldn't matter. Just note that if you use a VM hosted one, you will need to configure your local API to hit the VM.\n",
    "\n",
    "Video 3.4 of the course will give more detailed instructions if you been run it on a VM.\n",
    "\n",
    "## Q1. Converting the script to a Prefect flow\n",
    "\n",
    "If you want to follow the videos exactly, do:\n",
    "\n",
    "```bash\n",
    "pip install prefect==2.0b5\n",
    "```\n",
    "\n",
    "If you need Windows support, check [`windows.md`](windows.md) for installation instructions.\n",
    "\n",
    "The current script `homework.py` is a fully functional script as long as you already have `fhv_trip_data_2021-01.parquet` and `fhv_trip_data_2021-02.parquet` inside a `data` folder. You should be able to already run it using:\n",
    "\n",
    "```bash\n",
    "python homework.py\n",
    "```\n",
    "\n",
    "We want to bring this to workflow orchestration to add observability around it. The `main` function will be converted to a `flow` and the other functions will be `tasks`. After adding all of the decorators, there is actually one task that you will need to call `.result()` for inside the `flow` to get it to work. Which task is this?\n",
    "\n",
    "* `read_data`\n",
    "* `prepare_features`\n",
    "* `train_model`\n",
    "* `run_model`\n",
    "\n",
    "Important: change all `print` statements to use the Prefect logger. Using the `print` statement will not appear in the Prefect UI. You have to call `get_run_logger` at the start of the task to use it.\n"
   ]
  },
  {
   "cell_type": "markdown",
   "metadata": {},
   "source": [
    "Answer: *It is the `train_model` task, because we want to retrieve the linear regression model and the dict vectorizer*"
   ]
  },
  {
   "cell_type": "markdown",
   "metadata": {},
   "source": [
    "\n",
    "## Q2. Parameterizing the flow\n",
    "\n",
    "Right now there are two parameters for `main()` called `train_path` and `val_path`. We want to change the flow function to accept `date` instead. `date` should then be passed to a task that gives both the `train_path` and `val_path` to use.\n",
    "\n",
    "It should look like this:\n",
    "\n",
    "```python\n",
    "@flow\n",
    "def main(date=None):\n",
    "    train_path, val_path = get_paths(date).result()\n",
    "    # rest of flow below\n",
    "```\n",
    "\n",
    "Where `get_paths` is a task that you have to implement. The specs for this are outlined in the motivation section. Listing them out again here:\n",
    "\n",
    "The flow will take in a parameter called `date` which will be a datetime.\n",
    "    a. `date` should default to None\n",
    "    b. If `date` is None, use the current day. Use the data from 2 months back as the training data and the data from the previous month as validation data.\n",
    "    c. If a `date` value is supplied, get 2 months before the `date` as the training data, and the previous month as validation data.\n",
    "    d. As a concrete example, if the date passed is \"2021-03-15\", the training data should be \"fhv_tripdata_2021-01.parquet\" and the validation file will be \"fhv_trip_data_2021-02.parquet\"\n",
    "\n",
    "Because we have two files:\n",
    "\n",
    "* fhv_tripdata_2021-01.parquet\n",
    "* fhv_tripdata_2021-02.parquet\n",
    "\n",
    "Change the `main()` flow call to the following:\n",
    "\n",
    "```python\n",
    "main(date=\"2021-03-15\")\n",
    "```\n",
    "\n",
    "and it should use those files. This is a simplification for testing our homework.\n",
    "\n",
    "Recall the page from where we downloaded the For-Hire trip data.\n",
    "\n",
    "https://www1.nyc.gov/site/tlc/about/tlc-trip-record-data.page\n",
    "\n",
    "Download the relevant files needed to run the `main` flow if `date` is 2021-08-15.\n",
    "\n",
    "For example:\n",
    "\n",
    "```python\n",
    "main(date=\"2021-08-15\")\n",
    "```\n",
    "\n",
    "By setting up the logger from the previous step, we should see some logs about our training job. What is the validation MSE when running the flow with this date?\n",
    "\n",
    "Note you need to download the relevant files to run. Part of this question is understanding which files the flow should be looking for.\n",
    "\n",
    "The validation MSE is:\n",
    "\n",
    "* 11.637\n",
    "* 11.837\n",
    "* 12.037\n",
    "* 12.237\n"
   ]
  },
  {
   "cell_type": "code",
   "execution_count": 12,
   "metadata": {},
   "outputs": [
    {
     "name": "stderr",
     "output_type": "stream",
     "text": [
      "07:11:14.441 | INFO    | prefect.engine - Created flow run 'funny-petrel' for flow 'main'\n",
      "07:11:14.442 | INFO    | Flow run 'funny-petrel' - Using task runner 'ConcurrentTaskRunner'\n",
      "07:11:14.456 | WARNING | Flow run 'funny-petrel' - No default storage is configured on the server. Results from this flow run will be stored in a temporary directory in its runtime environment.\n",
      "07:11:14.521 | INFO    | Flow run 'funny-petrel' - Created task run 'get_paths-d0d6dac3-0' for task 'get_paths'\n",
      "07:11:14.629 | INFO    | Task run 'get_paths-d0d6dac3-0' - Finished in state Completed()\n",
      "07:11:14.660 | INFO    | Flow run 'funny-petrel' - Created task run 'read_data-4bc89d3c-0' for task 'read_data'\n",
      "07:11:14.708 | INFO    | Flow run 'funny-petrel' - Created task run 'prepare_features-960b1166-0' for task 'prepare_features'\n",
      "07:11:14.923 | INFO    | Flow run 'funny-petrel' - Created task run 'train_model-4cfe64ad-0' for task 'train_model'\n",
      "07:11:21.105 | INFO    | Task run 'read_data-4bc89d3c-0' - Finished in state Completed()\n",
      "07:11:21.572 | INFO    | Task run 'prepare_features-960b1166-0' - The mean duration of training is 18.230538791569113\n",
      "07:11:28.154 | INFO    | Task run 'prepare_features-960b1166-0' - Finished in state Completed()\n",
      "07:11:34.343 | INFO    | Task run 'train_model-4cfe64ad-0' - The shape of X_train is (1222031, 525)\n",
      "07:11:34.345 | INFO    | Task run 'train_model-4cfe64ad-0' - The DictVectorizer has 525 features\n",
      "07:11:57.856 | INFO    | Task run 'train_model-4cfe64ad-0' - The MSE of training is: 11.789353676756486\n",
      "07:11:58.036 | INFO    | Task run 'train_model-4cfe64ad-0' - Finished in state Completed()\n",
      "07:11:58.063 | INFO    | Flow run 'funny-petrel' - Created task run 'read_data-4bc89d3c-1' for task 'read_data'\n",
      "07:11:58.107 | INFO    | Flow run 'funny-petrel' - Created task run 'prepare_features-960b1166-1' for task 'prepare_features'\n",
      "07:11:58.229 | INFO    | Flow run 'funny-petrel' - Created task run 'run_model-86163965-0' for task 'run_model'\n",
      "07:12:05.272 | INFO    | Task run 'read_data-4bc89d3c-1' - Finished in state Completed()\n",
      "07:12:06.325 | INFO    | Task run 'prepare_features-960b1166-1' - The mean duration of training is 17.91113046137945\n",
      "07:12:12.868 | INFO    | Task run 'prepare_features-960b1166-1' - Finished in state Completed()\n",
      "07:12:18.680 | INFO    | Task run 'run_model-86163965-0' - The MSE of validation is: 11.637032331753268\n",
      "07:12:18.811 | INFO    | Task run 'run_model-86163965-0' - Finished in state Completed()\n",
      "07:12:26.600 | INFO    | Flow run 'funny-petrel' - Finished in state Completed('All states completed.')\n"
     ]
    },
    {
     "data": {
      "text/plain": [
       "Completed(message='All states completed.', type=COMPLETED, result=[Completed(message=None, type=COMPLETED, result=('./data/fhv_tripdata_2021-06.parquet', './data/fhv_tripdata_2021-07.parquet'), task_run_id=dab7a197-0b90-4165-a3a5-1cde36da0523), Completed(message=None, type=COMPLETED, result=        dispatching_base_num  ...   duration\n",
       "0                     B00021  ...   9.516667\n",
       "1                     B00021  ...  27.633333\n",
       "2                     B00021  ...  10.400000\n",
       "3                     B00021  ...   5.233333\n",
       "4                     B00021  ...   7.866667\n",
       "...                      ...  ...        ...\n",
       "1311341               B03321  ...  45.000000\n",
       "1311342               B03321  ...  35.000000\n",
       "1311343               B03340  ...  58.000000\n",
       "1311344               B03340  ...  27.000000\n",
       "1311345               B03381  ...  21.400000\n",
       "\n",
       "[1311346 rows x 8 columns], task_run_id=a3553177-75ff-4470-854e-82bf61b86b7d), Completed(message=None, type=COMPLETED, result=        dispatching_base_num  ...   duration\n",
       "0                     B00021  ...   9.516667\n",
       "1                     B00021  ...  27.633333\n",
       "2                     B00021  ...  10.400000\n",
       "3                     B00021  ...   5.233333\n",
       "4                     B00021  ...   7.866667\n",
       "...                      ...  ...        ...\n",
       "1311341               B03321  ...  45.000000\n",
       "1311342               B03321  ...  35.000000\n",
       "1311343               B03340  ...  58.000000\n",
       "1311344               B03340  ...  27.000000\n",
       "1311345               B03381  ...  21.400000\n",
       "\n",
       "[1222031 rows x 8 columns], task_run_id=447c15e3-50ff-49cb-925b-faccc75e6591), Completed(message=None, type=COMPLETED, result=(LinearRegression(), DictVectorizer()), task_run_id=41c2abfc-549f-4ce5-8d41-e8b6fc1df5dc), Completed(message=None, type=COMPLETED, result=        dispatching_base_num  ...   duration\n",
       "0                     B00014  ...  38.966667\n",
       "1                     B00021  ...  13.516667\n",
       "2                     B00021  ...  15.400000\n",
       "3                     B00021  ...  10.966667\n",
       "4                     B00021  ...  11.650000\n",
       "...                      ...  ...        ...\n",
       "1240009      B03285           ...  53.316667\n",
       "1240010               B03299  ...  14.600000\n",
       "1240011               B03299  ...  10.216667\n",
       "1240012               B03299  ...  14.316667\n",
       "1240013               B03381  ...  26.300000\n",
       "\n",
       "[1240014 rows x 8 columns], task_run_id=ca549201-a5c4-427e-b07f-3e44b2bdf8cf), Completed(message=None, type=COMPLETED, result=        dispatching_base_num  ...   duration\n",
       "0                     B00014  ...  38.966667\n",
       "1                     B00021  ...  13.516667\n",
       "2                     B00021  ...  15.400000\n",
       "3                     B00021  ...  10.966667\n",
       "4                     B00021  ...  11.650000\n",
       "...                      ...  ...        ...\n",
       "1240009      B03285           ...  53.316667\n",
       "1240010               B03299  ...  14.600000\n",
       "1240011               B03299  ...  10.216667\n",
       "1240012               B03299  ...  14.316667\n",
       "1240013               B03381  ...  26.300000\n",
       "\n",
       "[1158468 rows x 8 columns], task_run_id=c2f3306c-0948-4230-9b0f-61fdeb83aae5), Completed(message=None, type=COMPLETED, result=None, task_run_id=edba12f3-ed33-4a93-90ef-bf1169d47a31)], flow_run_id=020e9ab7-d8d0-474f-ae4e-c4df1b5570d5)"
      ]
     },
     "execution_count": 12,
     "metadata": {},
     "output_type": "execute_result"
    }
   ],
   "source": [
    "from datetime import date\n",
    "from homework import main\n",
    "main(date=date(2021, 8, 15))"
   ]
  },
  {
   "cell_type": "markdown",
   "metadata": {},
   "source": [
    "\n",
    "## Q3. Saving the model and artifacts\n",
    "\n",
    "At the moment, we are not saving the model and vectorizer for future use. You don't need a new task for this, you can just add it inside the `flow`. The requirements for filenames to save it as were mentioned in the Motivation section. They are pasted again here:\n",
    "\n",
    "* Save the model as \"model-{date}.pkl\" where date is in `YYYY-MM-DD`. Note that `date` here is the value of the flow `parameter`. In practice, this setup makes it very easy to get the latest model to run predictions because you just need to get the most recent one.\n",
    "* In this example we use a DictVectorizer. That is needed to run future data through our model. Save that as \"dv-{date}.pkl\". Similar to above, if the date is `2021-03-15`, the files output should be `model-2021-03-15.bin` and `dv-2021-03-15.b`.\n",
    "\n",
    "By using this file name, during inference, we can just pull the latest model from our model directory and apply it. Assuming we already had a list of filenames:\n",
    "\n",
    "```python\n",
    "['model-2021-03-15.bin', 'model-2021-04-15.bin', 'model-2021-05-15.bin']\n",
    "```\n",
    "\n",
    "We could do something like `sorted(model_list, reverse=False)[0]` to get the filename of the latest file. This is the simplest way to consistently use the latest trained model for inference. Tools like MLFlow give us more control logic to use flows.\n",
    "\n",
    "What is the file size of the `DictVectorizer` that we trained when the `date` is 2021-08-15?\n",
    "\n",
    "* 13,000 bytes \n",
    "* 23,000 bytes \n",
    "* 33,000 bytes \n",
    "* 43,000 bytes \n",
    "\n",
    "You can bring up the Orion UI and see the work you've been doing. If you are using local Orion, you can start the server with:\n",
    "\n",
    "```bash\n",
    "prefect orion start\n",
    "```\n",
    "\n",
    "You should be able to see previous Flow runs and the most recent successful runs. Navigate to some of them. Take time to explore the UI. The radar plot would be a good thing to share on social media if you participate in those posts.\n"
   ]
  },
  {
   "cell_type": "markdown",
   "metadata": {},
   "source": [
    "Answer: *The file size is 13 kb*"
   ]
  },
  {
   "cell_type": "markdown",
   "metadata": {},
   "source": [
    "\n",
    "## Q4. Creating a deployment with a CronSchedule\n",
    "\n",
    "We previously showed the `IntervalSchedule` in the video tutorials. In some cases, the interval is too rigid. For example, what if we wanted to run this `flow` on the 15th of every month? An interval of 30 days would not be in sync. In cases like these, the `CronSchedule` is more appropriate. The documentation for that is [here](https://orion-docs.prefect.io/concepts/schedules/#cronschedule)\n",
    "\n",
    "Cron is an important part of workflow orchestration. It is used to schedule tasks, and was a predecessor for more mature orchestration frameworks. A lot of teams still use Cron in production. Even if you don't use Cron, the Cron expression is very common as a way to write a schedule, and the basics are worth learning for orchestration, even outside Prefect.\n",
    "\n",
    "For this exercise, use a `CronSchedule` when creating a Prefect deployment.\n",
    "\n",
    "What is the Cron expression to run a flow at 9 AM every 15th of the month?\n",
    "\n",
    "* `* * 15 9 0`\n",
    "* `9 15 * * *`\n",
    "* `0 9 15 * *`\n",
    "* `0 15 9 1 *`\n",
    "\n",
    "Hint: there are many Cron to English tools. Try looking for one to help you.\n",
    "\n",
    "Create a deployment with `prefect deployment create` after you write your `DeploymentSpec`\n"
   ]
  },
  {
   "cell_type": "code",
   "execution_count": 14,
   "metadata": {},
   "outputs": [
    {
     "name": "stdout",
     "output_type": "stream",
     "text": [
      "Loading deployment specifications from python script at \u001b[32m'homework.py'\u001b[0m...\n",
      "/Users/lorenz/anaconda3/envs/prefect-orion/lib/python3.10/site-packages/prefect/deployments.py:247: UserWarning: You have configured local storage, this deployment will only be usable from the current machine..\n",
      "  warnings.warn(\n",
      "Creating deployment \u001b[1;34m'model_training'\u001b[0m for flow \u001b[34m'main'\u001b[0m...\n",
      "Deploying flow script from \n",
      "\u001b[32m'/Users/lorenz/repos/mlops/03-orchestration/prefect-orion/homework.py'\u001b[0m using \n",
      "Local Storage...\n",
      "Created deployment \u001b[34m'main/\u001b[0m\u001b[1;34mmodel_training'\u001b[0m.\n",
      "View your new deployment with: \n",
      "\n",
      "    prefect deployment inspect \u001b[34m'main/\u001b[0m\u001b[1;34mmodel_training'\u001b[0m\n",
      "\u001b[32mCreated 1 deployments!\u001b[0m\n"
     ]
    }
   ],
   "source": [
    "!prefect deployment create homework.py"
   ]
  },
  {
   "cell_type": "markdown",
   "metadata": {},
   "source": [
    "Answer: *To run it at 9 AM on the 15th day of each month, the expression `0 9 15 * *` is used.*"
   ]
  },
  {
   "cell_type": "markdown",
   "metadata": {},
   "source": [
    "\n",
    "\n",
    "## Q5. Viewing the Deployment \n",
    "\n",
    "View the deployment in the UI. When first loading, we may not see that many flows because the default filter is 1 day back and 1 day forward. Remove the filter for 1 day forward to see the scheduled runs. \n",
    "\n",
    "How many flow runs are scheduled by Prefect in advance? You should not be counting manually. There is a number of upcoming runs on the top right of the dashboard.\n",
    "\n",
    "* 0\n",
    "* 3\n",
    "* 10\n",
    "* 25\n"
   ]
  },
  {
   "cell_type": "code",
   "execution_count": 16,
   "metadata": {},
   "outputs": [
    {
     "name": "stdout",
     "output_type": "stream",
     "text": [
      "\u001b[3m                                   Flow Runs                                    \u001b[0m\n",
      "┏━━━━━━━━━━━━━━━━━━━━━━━━━━━━━━━━━━━┳━━━┳━━━━━━━━━━━━━━━━━━┳━━━━━━━━┳━━━━━━━━━━┓\n",
      "┃\u001b[1m \u001b[0m\u001b[1m                               ID\u001b[0m\u001b[1m \u001b[0m┃\u001b[1m \u001b[0m\u001b[1m…\u001b[0m\u001b[1m \u001b[0m┃\u001b[1m \u001b[0m\u001b[1mName            \u001b[0m\u001b[1m \u001b[0m┃\u001b[1m \u001b[0m\u001b[1mState \u001b[0m\u001b[1m \u001b[0m┃\u001b[1m \u001b[0m\u001b[1mWhen    \u001b[0m\u001b[1m \u001b[0m┃\n",
      "┡━━━━━━━━━━━━━━━━━━━━━━━━━━━━━━━━━━━╇━━━╇━━━━━━━━━━━━━━━━━━╇━━━━━━━━╇━━━━━━━━━━┩\n",
      "│\u001b[36m \u001b[0m\u001b[36mfb0ca7d7-26da-4eb5-916e-288f4f37…\u001b[0m\u001b[36m \u001b[0m│\u001b[34m \u001b[0m\u001b[34m…\u001b[0m\u001b[34m \u001b[0m│\u001b[32m \u001b[0m\u001b[32mbrown-petrel    \u001b[0m\u001b[32m \u001b[0m│ SCHED… │\u001b[1m \u001b[0m\u001b[1min 3 mo…\u001b[0m\u001b[1m \u001b[0m│\n",
      "│\u001b[36m \u001b[0m\u001b[36m0581ad37-9b9b-4f6f-8a58-90a97510…\u001b[0m\u001b[36m \u001b[0m│\u001b[34m \u001b[0m\u001b[34m…\u001b[0m\u001b[34m \u001b[0m│\u001b[32m \u001b[0m\u001b[32malluring-tortoi…\u001b[0m\u001b[32m \u001b[0m│ SCHED… │\u001b[1m \u001b[0m\u001b[1min 2 mo…\u001b[0m\u001b[1m \u001b[0m│\n",
      "│\u001b[36m \u001b[0m\u001b[36meb8af141-a6fd-42d1-9847-8eea2c8a…\u001b[0m\u001b[36m \u001b[0m│\u001b[34m \u001b[0m\u001b[34m…\u001b[0m\u001b[34m \u001b[0m│\u001b[32m \u001b[0m\u001b[32mcarmine-gecko   \u001b[0m\u001b[32m \u001b[0m│ SCHED… │\u001b[1m \u001b[0m\u001b[1min 1 mo…\u001b[0m\u001b[1m \u001b[0m│\n",
      "│\u001b[36m \u001b[0m\u001b[36mbc3927dc-e7a0-451e-b4ee-0b902d43…\u001b[0m\u001b[36m \u001b[0m│\u001b[34m \u001b[0m\u001b[34m…\u001b[0m\u001b[34m \u001b[0m│\u001b[32m \u001b[0m\u001b[32mdelightful-anac…\u001b[0m\u001b[32m \u001b[0m│ SCHED… │\u001b[1m \u001b[0m\u001b[1min 4 da…\u001b[0m\u001b[1m \u001b[0m│\n",
      "└───────────────────────────────────┴───┴──────────────────┴────────┴──────────┘\n"
     ]
    }
   ],
   "source": [
    "!prefect flow-run ls --state-type SCHEDULED   "
   ]
  },
  {
   "cell_type": "markdown",
   "metadata": {},
   "source": [
    "\n",
    "## Q6. Creating a work-queue\n",
    "\n",
    "In order to run this flow, you will need an agent and a work queue. Because we scheduled our flow on every month, it won't really get picked up by an agent. For this exercise, create a work-queue from the UI and view it using the CLI. \n",
    "\n",
    "For all CLI commands with Prefect, you can use `--help` to get more information. \n",
    "\n",
    "For example,\n",
    "\n",
    "* `prefect --help`\n",
    "* `prefect work-queue --help`\n",
    "\n",
    "What is the command to view the available work-queues?\n",
    "\n",
    "* `prefect work-queue inspect`\n",
    "* `prefect work-queue ls`\n",
    "* `prefect work-queue preview`\n",
    "* `prefect work-queue list`\n"
   ]
  },
  {
   "cell_type": "code",
   "execution_count": 21,
   "metadata": {},
   "outputs": [
    {
     "name": "stdout",
     "output_type": "stream",
     "text": [
      "\u001b[3m                            Work Queues                             \u001b[0m\n",
      "┏━━━━━━━━━━━━━━━━━━━━━━━━━━━━━━━━━━━━━━┳━━━━━━━┳━━━━━━━━━━━━━━━━━━━┓\n",
      "┃\u001b[1m \u001b[0m\u001b[1m                                  ID\u001b[0m\u001b[1m \u001b[0m┃\u001b[1m \u001b[0m\u001b[1mName \u001b[0m\u001b[1m \u001b[0m┃\u001b[1m \u001b[0m\u001b[1mConcurrency Limit\u001b[0m\u001b[1m \u001b[0m┃\n",
      "┡━━━━━━━━━━━━━━━━━━━━━━━━━━━━━━━━━━━━━━╇━━━━━━━╇━━━━━━━━━━━━━━━━━━━┩\n",
      "│\u001b[36m \u001b[0m\u001b[36m56e1dfa9-4c51-481d-a044-f59fbcdfd5ef\u001b[0m\u001b[36m \u001b[0m│\u001b[32m \u001b[0m\u001b[32mlocal\u001b[0m\u001b[32m \u001b[0m│\u001b[34m \u001b[0m\u001b[34mNone\u001b[0m\u001b[34m             \u001b[0m\u001b[34m \u001b[0m│\n",
      "└──────────────────────────────────────┴───────┴───────────────────┘\n",
      "\u001b[31m                    (**) denotes a paused queue                     \u001b[0m\n"
     ]
    }
   ],
   "source": [
    "!prefect work-queue ls"
   ]
  }
 ],
 "metadata": {
  "interpreter": {
   "hash": "70c16159105a987443f286a8810269c9885e8c828f5f4e25209983b6e7541378"
  },
  "kernelspec": {
   "display_name": "Python 3.10.4 ('prefect-orion')",
   "language": "python",
   "name": "python3"
  },
  "language_info": {
   "codemirror_mode": {
    "name": "ipython",
    "version": 3
   },
   "file_extension": ".py",
   "mimetype": "text/x-python",
   "name": "python",
   "nbconvert_exporter": "python",
   "pygments_lexer": "ipython3",
   "version": "3.10.4"
  },
  "orig_nbformat": 4
 },
 "nbformat": 4,
 "nbformat_minor": 2
}
